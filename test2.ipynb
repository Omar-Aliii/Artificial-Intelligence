{
 "cells": [
  {
   "cell_type": "code",
   "execution_count": 154,
   "metadata": {},
   "outputs": [],
   "source": [
    "import random\n",
    "\n",
    "# Example list of cities with their coordinates and weights\n",
    "cities = [\n",
    "    (0, 0, 1),  # Depot City 0 (x, y, weight)\n",
    "    (1, 5, 2),  # City 1\n",
    "    (2, 3, 3),  # City 2\n",
    "    (5, 2, 4),  # City 3\n",
    "    (7, 6, 5),  # City 4\n",
    "    (4 ,5, 4),  # City 5\n",
    "]\n",
    "\n",
    "# Number of cities\n",
    "num_cities = len(cities)\n",
    "\n",
    "# Population size\n",
    "population_size = 50"
   ]
  },
  {
   "cell_type": "code",
   "execution_count": 155,
   "metadata": {},
   "outputs": [],
   "source": [
    "# Create a distance matrix based on the Euclidean distance between cities\n",
    "# root[(X1-X2)^2 + (Y1-Y2)^2]\n",
    "def create_distance_matrix():\n",
    "    distance_matrix = []\n",
    "    for i in range(num_cities):\n",
    "        row = []\n",
    "        for j in range(num_cities):\n",
    "            xi, yi, wi = cities[i]\n",
    "            xj, yj, wj = cities[j]\n",
    "            distance = ((xi - xj) ** 2 + (yi - yj) ** 2) ** 0.5\n",
    "            rounded_distance = round(distance, 5)\n",
    "            row.append(rounded_distance)\n",
    "        distance_matrix.append(row)\n",
    "    #for row in distance_matrix:\n",
    "        #print(row)\n",
    "    return distance_matrix"
   ]
  },
  {
   "cell_type": "code",
   "execution_count": 156,
   "metadata": {},
   "outputs": [],
   "source": [
    "# Function to calculate the total weighted distance of a route\n",
    "def calculate_total_distance(route, distance_matrix):\n",
    "    total_distance = 0\n",
    "    for i in range(num_cities - 1):\n",
    "        city_a = route[i]\n",
    "        city_b = route[i + 1]\n",
    "        # We use the distance matrix to get the distance between 2 cities\n",
    "        # The it is added to the total distance\n",
    "        total_distance += distance_matrix[city_a][city_b]\n",
    "    # Add distance from the last city back to the depot\n",
    "    # Side note thats why it is num_cities - 1\n",
    "    total_distance += distance_matrix[route[-1]][route[0]]\n",
    "    return total_distance"
   ]
  },
  {
   "cell_type": "code",
   "execution_count": 157,
   "metadata": {},
   "outputs": [],
   "source": [
    "def calculate_total_weight(route):\n",
    "    total_weight = 0\n",
    "    for i in range(len(route) - 1):\n",
    "        city = route[i]\n",
    "        weight = cities[city][2]\n",
    "        total_weight += weight\n",
    "    return total_weight"
   ]
  },
  {
   "cell_type": "code",
   "execution_count": 158,
   "metadata": {},
   "outputs": [],
   "source": [
    "def track_total_weight(route,total_weight):\n",
    "    weight_array = []\n",
    "    weight_array.append(total_weight)\n",
    "    for i in range(0, len(route) - 1):  # Exclude the depot at index 0 and the last city\n",
    "        city = route[i]\n",
    "        weight = cities[city][2]\n",
    "        total_weight = total_weight - weight\n",
    "        weight_array.append(total_weight)\n",
    "    sorted_weights = sorted(weight_array, reverse=True)\n",
    "    return sorted_weights"
   ]
  },
  {
   "cell_type": "code",
   "execution_count": 159,
   "metadata": {},
   "outputs": [],
   "source": [
    "# Function to generate a random route\n",
    "def generate_route():\n",
    "    route = list(range(1, num_cities))  # Create a list of city indices\n",
    "    random.shuffle(route)               # We generate random population\n",
    "    route = [0] + route + [0]           # Add the depot at the beginning and end of the route          # Shuffle the list randomly\n",
    "    return route"
   ]
  },
  {
   "cell_type": "code",
   "execution_count": 160,
   "metadata": {},
   "outputs": [],
   "source": [
    "# Function to generate an initial population\n",
    "def generate_population():\n",
    "    population = []\n",
    "    for _ in range(population_size):\n",
    "        route = generate_route()\n",
    "        population.append(route)\n",
    "    return population"
   ]
  },
  {
   "cell_type": "code",
   "execution_count": 161,
   "metadata": {},
   "outputs": [
    {
     "name": "stdout",
     "output_type": "stream",
     "text": [
      "Route 1: [0, 3, 5, 2, 4, 1, 0] - Total Distance: 23.28958 - Total Weight: [19, 18, 14, 10, 7, 2, 0]\n",
      "Route 2: [0, 5, 3, 1, 4, 2, 0] - Total Distance: 26.47911 - Total Weight: [19, 18, 14, 10, 8, 3, 0]\n",
      "Route 3: [0, 2, 3, 4, 1, 5, 0] - Total Distance: 20.32273 - Total Weight: [19, 18, 15, 11, 6, 4, 0]\n",
      "Route 4: [0, 4, 3, 2, 5, 1, 0] - Total Distance: 22.68239 - Total Weight: [19, 18, 13, 9, 6, 2, 0]\n",
      "Route 5: [0, 5, 4, 3, 2, 1, 0] - Total Distance: 19.43589 - Total Weight: [19, 18, 14, 9, 5, 2, 0]\n",
      "Route 6: [0, 1, 5, 2, 3, 4, 0] - Total Distance: 18.56187 - Total Weight: [19, 18, 16, 12, 9, 5, 0]\n",
      "Route 7: [0, 2, 1, 3, 5, 4, 0] - Total Distance: 17.16618 - Total Weight: [19, 18, 15, 13, 9, 5, 0]\n",
      "Route 8: [0, 4, 3, 5, 2, 1, 0] - Total Distance: 21.91846 - Total Weight: [19, 18, 13, 9, 5, 2, 0]\n",
      "Route 9: [0, 2, 4, 1, 5, 3, 0] - Total Distance: 21.68154 - Total Weight: [19, 18, 15, 10, 8, 4, 0]\n",
      "Route 10: [0, 3, 1, 5, 2, 4, 0] - Total Distance: 22.04454 - Total Weight: [19, 18, 14, 12, 8, 5, 0]\n",
      "Route 11: [0, 5, 4, 2, 1, 3, 0] - Total Distance: 22.63242 - Total Weight: [19, 18, 14, 9, 6, 4, 0]\n",
      "Route 12: [0, 1, 2, 4, 3, 5, 0] - Total Distance: 20.80046 - Total Weight: [19, 18, 16, 13, 8, 4, 0]\n",
      "Route 13: [0, 3, 2, 4, 5, 1, 0] - Total Distance: 20.54067 - Total Weight: [19, 18, 14, 11, 6, 2, 0]\n",
      "Route 14: [0, 1, 2, 5, 3, 4, 0] - Total Distance: 17.79794 - Total Weight: [19, 18, 16, 13, 9, 5, 0]\n",
      "Route 15: [0, 1, 5, 4, 2, 3, 0] - Total Distance: 20.25453 - Total Weight: [19, 18, 16, 12, 7, 4, 0]\n",
      "Route 16: [0, 3, 1, 4, 5, 2, 0] - Total Distance: 22.45863 - Total Weight: [19, 18, 14, 12, 7, 3, 0]\n",
      "Route 17: [0, 4, 1, 3, 2, 5, 0] - Total Distance: 26.29301 - Total Weight: [19, 18, 13, 11, 7, 4, 0]\n",
      "Route 18: [0, 1, 4, 5, 3, 2, 0] - Total Distance: 20.66862 - Total Weight: [19, 18, 16, 11, 7, 3, 0]\n",
      "Route 19: [0, 3, 1, 4, 2, 5, 0] - Total Distance: 25.1273 - Total Weight: [19, 18, 14, 12, 7, 4, 0]\n",
      "Route 20: [0, 2, 4, 5, 1, 3, 0] - Total Distance: 20.59878 - Total Weight: [19, 18, 15, 10, 6, 4, 0]\n",
      "Route 21: [0, 5, 2, 4, 3, 1, 0] - Total Distance: 24.53464 - Total Weight: [19, 18, 14, 11, 6, 2, 0]\n",
      "Route 22: [0, 1, 5, 2, 3, 4, 0] - Total Distance: 18.56187 - Total Weight: [19, 18, 16, 12, 9, 5, 0]\n",
      "Route 23: [0, 2, 4, 5, 1, 3, 0] - Total Distance: 20.59878 - Total Weight: [19, 18, 15, 10, 6, 4, 0]\n",
      "Route 24: [0, 2, 5, 4, 1, 3, 0] - Total Distance: 20.67902 - Total Weight: [19, 18, 15, 11, 6, 4, 0]\n",
      "Route 25: [0, 3, 2, 4, 1, 5, 0] - Total Distance: 23.46115 - Total Weight: [19, 18, 14, 11, 6, 4, 0]\n",
      "Route 26: [0, 1, 4, 3, 2, 5, 0] - Total Distance: 21.64463 - Total Weight: [19, 18, 16, 11, 7, 4, 0]\n",
      "Route 27: [0, 5, 4, 1, 3, 2, 0] - Total Distance: 23.81044 - Total Weight: [19, 18, 14, 9, 7, 3, 0]\n",
      "Route 28: [0, 4, 3, 2, 5, 1, 0] - Total Distance: 22.68239 - Total Weight: [19, 18, 13, 9, 6, 2, 0]\n",
      "Route 29: [0, 4, 5, 2, 3, 1, 0] - Total Distance: 23.37253 - Total Weight: [19, 18, 13, 9, 6, 2, 0]\n",
      "Route 30: [0, 1, 4, 5, 3, 2, 0] - Total Distance: 20.66862 - Total Weight: [19, 18, 16, 11, 7, 3, 0]\n",
      "Route 31: [0, 1, 4, 3, 2, 5, 0] - Total Distance: 21.64463 - Total Weight: [19, 18, 16, 11, 7, 4, 0]\n",
      "Route 32: [0, 1, 3, 5, 2, 4, 0] - Total Distance: 21.92068 - Total Weight: [19, 18, 16, 12, 8, 5, 0]\n",
      "Route 33: [0, 5, 4, 2, 3, 1, 0] - Total Distance: 23.55863 - Total Weight: [19, 18, 14, 9, 6, 2, 0]\n",
      "Route 34: [0, 4, 3, 2, 5, 1, 0] - Total Distance: 22.68239 - Total Weight: [19, 18, 13, 9, 6, 2, 0]\n",
      "Route 35: [0, 4, 2, 1, 3, 5, 0] - Total Distance: 25.44884 - Total Weight: [19, 18, 13, 10, 8, 4, 0]\n",
      "Route 36: [0, 2, 4, 5, 1, 3, 0] - Total Distance: 20.59878 - Total Weight: [19, 18, 15, 10, 6, 4, 0]\n",
      "Route 37: [0, 2, 1, 4, 5, 3, 0] - Total Distance: 18.24894 - Total Weight: [19, 18, 15, 13, 8, 4, 0]\n",
      "Route 38: [0, 1, 5, 4, 2, 3, 0] - Total Distance: 20.25453 - Total Weight: [19, 18, 16, 12, 7, 4, 0]\n",
      "Route 39: [0, 2, 3, 1, 5, 4, 0] - Total Distance: 17.93011 - Total Weight: [19, 18, 15, 11, 9, 5, 0]\n",
      "Route 40: [0, 1, 3, 2, 5, 4, 0] - Total Distance: 19.25201 - Total Weight: [19, 18, 16, 12, 9, 5, 0]\n",
      "Route 41: [0, 4, 2, 1, 3, 5, 0] - Total Distance: 25.44884 - Total Weight: [19, 18, 13, 10, 8, 4, 0]\n",
      "Route 42: [0, 1, 4, 2, 5, 3, 0] - Total Distance: 23.00344 - Total Weight: [19, 18, 16, 11, 8, 4, 0]\n",
      "Route 43: [0, 3, 5, 1, 2, 4, 0] - Total Distance: 19.61446 - Total Weight: [19, 18, 14, 10, 8, 5, 0]\n",
      "Route 44: [0, 5, 4, 1, 3, 2, 0] - Total Distance: 23.81044 - Total Weight: [19, 18, 14, 9, 7, 3, 0]\n",
      "Route 45: [0, 1, 5, 2, 4, 3, 0] - Total Distance: 21.23054 - Total Weight: [19, 18, 16, 12, 9, 4, 0]\n",
      "Route 46: [0, 1, 2, 5, 4, 3, 0] - Total Distance: 17.79794 - Total Weight: [19, 18, 16, 13, 9, 4, 0]\n",
      "Route 47: [0, 4, 2, 3, 5, 1, 0] - Total Distance: 24.37505 - Total Weight: [19, 18, 13, 10, 6, 2, 0]\n",
      "Route 48: [0, 3, 1, 4, 2, 5, 0] - Total Distance: 25.1273 - Total Weight: [19, 18, 14, 12, 7, 4, 0]\n",
      "Route 49: [0, 1, 2, 4, 5, 3, 0] - Total Distance: 19.4906 - Total Weight: [19, 18, 16, 13, 8, 4, 0]\n",
      "Route 50: [0, 4, 3, 2, 5, 1, 0] - Total Distance: 22.68239 - Total Weight: [19, 18, 13, 9, 6, 2, 0]\n"
     ]
    }
   ],
   "source": [
    "# Generate an initial population\n",
    "# It is generated randomly\n",
    "initial_population = generate_population()\n",
    "\n",
    "# Create the distance matrix\n",
    "distance_matrix = create_distance_matrix()\n",
    "\n",
    "# Print the initial population with their total distances\n",
    "for i, route in enumerate(initial_population):\n",
    "    total_distance = calculate_total_distance(route, distance_matrix)\n",
    "    total_weight = calculate_total_weight(route)\n",
    "    print(f\"Route {i + 1}: {route} - Total Distance: {round(total_distance,5)} - Total Weight: {track_total_weight(route, total_weight)}\")"
   ]
  }
 ],
 "metadata": {
  "kernelspec": {
   "display_name": "Python 3",
   "language": "python",
   "name": "python3"
  },
  "language_info": {
   "codemirror_mode": {
    "name": "ipython",
    "version": 3
   },
   "file_extension": ".py",
   "mimetype": "text/x-python",
   "name": "python",
   "nbconvert_exporter": "python",
   "pygments_lexer": "ipython3",
   "version": "3.11.3"
  },
  "orig_nbformat": 4
 },
 "nbformat": 4,
 "nbformat_minor": 2
}
