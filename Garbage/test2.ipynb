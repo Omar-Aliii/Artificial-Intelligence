{
 "cells": [
  {
   "cell_type": "code",
   "execution_count": 68,
   "metadata": {},
   "outputs": [],
   "source": [
    "import random\n",
    "\n",
    "# Example list of cities with their coordinates and weights\n",
    "cities = [\n",
    "    (0, 0, 1),  # Depot City 0 (x, y, weight)\n",
    "    (1, 5, 2),  # City 1\n",
    "    (2, 3, 3),  # City 2\n",
    "    (5, 2, 4),  # City 3\n",
    "    (7, 6, 5),  # City 4\n",
    "    (4 ,5, 4),  # City 5\n",
    "]\n",
    "\n",
    "# Number of cities\n",
    "num_cities = len(cities)\n",
    "\n",
    "# Population size\n",
    "population_size = 50"
   ]
  },
  {
   "cell_type": "code",
   "execution_count": 69,
   "metadata": {},
   "outputs": [],
   "source": [
    "# Create a distance matrix based on the Euclidean distance between cities\n",
    "# root[(X1-X2)^2 + (Y1-Y2)^2]\n",
    "def create_distance_matrix():\n",
    "    distance_matrix = []\n",
    "    for i in range(num_cities):\n",
    "        row = []\n",
    "        for j in range(num_cities):\n",
    "            xi, yi, wi = cities[i]\n",
    "            xj, yj, wj = cities[j]\n",
    "            distance = ((xi - xj) ** 2 + (yi - yj) ** 2) ** 0.5\n",
    "            rounded_distance = round(distance, 5)\n",
    "            row.append(rounded_distance)\n",
    "        distance_matrix.append(row)\n",
    "    #for row in distance_matrix:\n",
    "        #print(row)\n",
    "    return distance_matrix"
   ]
  },
  {
   "cell_type": "code",
   "execution_count": 70,
   "metadata": {},
   "outputs": [],
   "source": [
    "# Function to calculate the total weighted distance of a route\n",
    "def calculate_total_distance(route, distance_matrix):\n",
    "    total_distance = 0\n",
    "    for i in range(num_cities - 1):\n",
    "        city_a = route[i]\n",
    "        city_b = route[i + 1]\n",
    "        # We use the distance matrix to get the distance between 2 cities\n",
    "        # The it is added to the total distance\n",
    "        total_distance += distance_matrix[city_a][city_b]\n",
    "    # Add distance from the last city back to the depot\n",
    "    # Side note thats why it is num_cities - 1\n",
    "    total_distance += distance_matrix[route[-1]][route[0]]\n",
    "    return total_distance"
   ]
  },
  {
   "cell_type": "code",
   "execution_count": 71,
   "metadata": {},
   "outputs": [],
   "source": [
    "def calculate_total_weight(route):\n",
    "    total_weight = 0\n",
    "    for i in range(len(route) - 1):\n",
    "        city = route[i]\n",
    "        weight = cities[city][2]\n",
    "        total_weight += weight\n",
    "    return total_weight"
   ]
  },
  {
   "cell_type": "code",
   "execution_count": 72,
   "metadata": {},
   "outputs": [],
   "source": [
    "def track_total_weight(route,total_weight):\n",
    "    weight_array = []\n",
    "    weight_array.append(total_weight)\n",
    "    for i in range(0, len(route) - 1):  # Exclude the depot at index 0 and the last city\n",
    "        city = route[i]\n",
    "        weight = cities[city][2]\n",
    "        total_weight = total_weight - weight\n",
    "        weight_array.append(total_weight)\n",
    "    sorted_weights = sorted(weight_array, reverse=True)\n",
    "    return sorted_weights"
   ]
  },
  {
   "cell_type": "code",
   "execution_count": 73,
   "metadata": {},
   "outputs": [],
   "source": [
    "# Function to generate a random route\n",
    "def generate_route():\n",
    "    route = list(range(1, num_cities))  # Create a list of city indices\n",
    "    random.shuffle(route)               # We generate random population\n",
    "    route = [0] + route + [0]           # Add the depot at the beginning and end of the route          # Shuffle the list randomly\n",
    "    return route"
   ]
  },
  {
   "cell_type": "code",
   "execution_count": 74,
   "metadata": {},
   "outputs": [],
   "source": [
    "# Function to generate an initial population\n",
    "def generate_population():\n",
    "    population = []\n",
    "    for _ in range(population_size):\n",
    "        route = generate_route()\n",
    "        population.append(route)\n",
    "    return population"
   ]
  },
  {
   "cell_type": "code",
   "execution_count": 75,
   "metadata": {},
   "outputs": [
    {
     "name": "stdout",
     "output_type": "stream",
     "text": [
      "[[0, 1, 2, 4, 5, 3, 0], [0, 1, 2, 5, 3, 4, 0], [0, 5, 2, 3, 1, 4, 0], [0, 1, 5, 2, 3, 4, 0], [0, 3, 5, 2, 4, 1, 0], [0, 4, 3, 5, 1, 2, 0], [0, 4, 5, 1, 3, 2, 0], [0, 2, 5, 4, 1, 3, 0], [0, 1, 5, 4, 2, 3, 0], [0, 2, 5, 4, 1, 3, 0], [0, 5, 4, 3, 1, 2, 0], [0, 3, 4, 1, 2, 5, 0], [0, 1, 3, 5, 2, 4, 0], [0, 2, 5, 4, 1, 3, 0], [0, 3, 5, 2, 1, 4, 0], [0, 5, 4, 2, 1, 3, 0], [0, 3, 2, 5, 1, 4, 0], [0, 5, 4, 1, 3, 2, 0], [0, 2, 5, 3, 1, 4, 0], [0, 1, 5, 2, 4, 3, 0], [0, 1, 3, 2, 5, 4, 0], [0, 4, 2, 1, 3, 5, 0], [0, 2, 1, 3, 4, 5, 0], [0, 5, 1, 3, 4, 2, 0], [0, 1, 5, 3, 2, 4, 0], [0, 5, 1, 4, 2, 3, 0], [0, 5, 4, 2, 1, 3, 0], [0, 2, 3, 5, 1, 4, 0], [0, 2, 3, 4, 1, 5, 0], [0, 5, 2, 3, 4, 1, 0], [0, 3, 5, 1, 4, 2, 0], [0, 2, 5, 3, 1, 4, 0], [0, 2, 5, 4, 3, 1, 0], [0, 3, 5, 2, 4, 1, 0], [0, 5, 2, 3, 1, 4, 0], [0, 4, 2, 1, 3, 5, 0], [0, 4, 1, 5, 3, 2, 0], [0, 1, 4, 3, 2, 5, 0], [0, 5, 2, 4, 3, 1, 0], [0, 3, 2, 1, 5, 4, 0], [0, 2, 5, 4, 1, 3, 0], [0, 3, 5, 4, 1, 2, 0], [0, 1, 3, 4, 2, 5, 0], [0, 3, 4, 2, 1, 5, 0], [0, 2, 4, 3, 5, 1, 0], [0, 5, 1, 3, 4, 2, 0], [0, 3, 4, 1, 2, 5, 0], [0, 1, 3, 4, 2, 5, 0], [0, 1, 5, 2, 4, 3, 0], [0, 2, 5, 1, 4, 3, 0]]\n",
      "Route 1: [0, 1, 2, 4, 5, 3, 0] - Total Distance: 19.4906 - Total Weight: [19, 18, 16, 13, 8, 4, 0]\n",
      "Route 2: [0, 1, 2, 5, 3, 4, 0] - Total Distance: 17.79794 - Total Weight: [19, 18, 16, 13, 9, 5, 0]\n",
      "Route 3: [0, 5, 2, 3, 1, 4, 0] - Total Distance: 23.47659 - Total Weight: [19, 18, 14, 11, 7, 5, 0]\n",
      "Route 4: [0, 1, 5, 2, 3, 4, 0] - Total Distance: 18.56187 - Total Weight: [19, 18, 16, 12, 9, 5, 0]\n",
      "Route 5: [0, 3, 5, 2, 4, 1, 0] - Total Distance: 23.28958 - Total Weight: [19, 18, 14, 10, 7, 2, 0]\n",
      "Route 6: [0, 4, 3, 5, 1, 2, 0] - Total Distance: 22.09003 - Total Weight: [19, 18, 13, 9, 5, 3, 0]\n",
      "Route 7: [0, 4, 5, 1, 3, 2, 0] - Total Distance: 23.5441 - Total Weight: [19, 18, 13, 9, 7, 3, 0]\n",
      "Route 8: [0, 2, 5, 4, 1, 3, 0] - Total Distance: 20.67902 - Total Weight: [19, 18, 15, 11, 6, 4, 0]\n",
      "Route 9: [0, 1, 5, 4, 2, 3, 0] - Total Distance: 20.25453 - Total Weight: [19, 18, 16, 12, 7, 4, 0]\n",
      "Route 10: [0, 2, 5, 4, 1, 3, 0] - Total Distance: 20.67902 - Total Weight: [19, 18, 15, 11, 6, 4, 0]\n",
      "Route 11: [0, 5, 4, 3, 1, 2, 0] - Total Distance: 21.27361 - Total Weight: [19, 18, 14, 9, 5, 3, 0]\n",
      "Route 12: [0, 3, 4, 1, 2, 5, 0] - Total Distance: 21.00456 - Total Weight: [19, 18, 14, 9, 7, 4, 0]\n",
      "Route 13: [0, 1, 3, 5, 2, 4, 0] - Total Distance: 21.92068 - Total Weight: [19, 18, 16, 12, 8, 5, 0]\n",
      "Route 14: [0, 2, 5, 4, 1, 3, 0] - Total Distance: 20.67902 - Total Weight: [19, 18, 15, 11, 6, 4, 0]\n",
      "Route 15: [0, 3, 5, 2, 1, 4, 0] - Total Distance: 19.6947 - Total Weight: [19, 18, 14, 10, 7, 5, 0]\n",
      "Route 16: [0, 5, 4, 2, 1, 3, 0] - Total Distance: 22.63242 - Total Weight: [19, 18, 14, 9, 6, 4, 0]\n",
      "Route 17: [0, 3, 2, 5, 1, 4, 0] - Total Distance: 20.45863 - Total Weight: [19, 18, 14, 11, 7, 5, 0]\n",
      "Route 18: [0, 5, 4, 1, 3, 2, 0] - Total Distance: 23.81044 - Total Weight: [19, 18, 14, 9, 7, 3, 0]\n",
      "Route 19: [0, 2, 5, 3, 1, 4, 0] - Total Distance: 20.67902 - Total Weight: [19, 18, 15, 11, 7, 5, 0]\n",
      "Route 20: [0, 1, 5, 2, 4, 3, 0] - Total Distance: 21.23054 - Total Weight: [19, 18, 16, 12, 9, 4, 0]\n",
      "Route 21: [0, 1, 3, 2, 5, 4, 0] - Total Distance: 19.25201 - Total Weight: [19, 18, 16, 12, 9, 5, 0]\n",
      "Route 22: [0, 4, 2, 1, 3, 5, 0] - Total Distance: 25.44884 - Total Weight: [19, 18, 13, 10, 8, 4, 0]\n",
      "Route 23: [0, 2, 1, 3, 4, 5, 0] - Total Distance: 18.47604 - Total Weight: [19, 18, 15, 13, 9, 4, 0]\n",
      "Route 24: [0, 5, 1, 3, 4, 2, 0] - Total Distance: 24.70621 - Total Weight: [19, 18, 14, 12, 8, 3, 0]\n",
      "Route 25: [0, 1, 5, 3, 2, 4, 0] - Total Distance: 20.25453 - Total Weight: [19, 18, 16, 12, 8, 5, 0]\n",
      "Route 26: [0, 5, 1, 4, 2, 3, 0] - Total Distance: 24.47911 - Total Weight: [19, 18, 14, 12, 7, 4, 0]\n",
      "Route 27: [0, 5, 4, 2, 1, 3, 0] - Total Distance: 22.63242 - Total Weight: [19, 18, 14, 9, 6, 4, 0]\n",
      "Route 28: [0, 2, 3, 5, 1, 4, 0] - Total Distance: 19.01287 - Total Weight: [19, 18, 15, 11, 7, 5, 0]\n",
      "Route 29: [0, 2, 3, 4, 1, 5, 0] - Total Distance: 20.32273 - Total Weight: [19, 18, 15, 11, 6, 4, 0]\n",
      "Route 30: [0, 5, 2, 3, 4, 1, 0] - Total Distance: 22.94873 - Total Weight: [19, 18, 14, 11, 7, 2, 0]\n",
      "Route 31: [0, 3, 5, 1, 4, 2, 0] - Total Distance: 23.46115 - Total Weight: [19, 18, 14, 10, 8, 3, 0]\n",
      "Route 32: [0, 2, 5, 3, 1, 4, 0] - Total Distance: 20.67902 - Total Weight: [19, 18, 15, 11, 7, 5, 0]\n",
      "Route 33: [0, 2, 5, 4, 3, 1, 0] - Total Distance: 19.0684 - Total Weight: [19, 18, 15, 11, 6, 2, 0]\n",
      "Route 34: [0, 3, 5, 2, 4, 1, 0] - Total Distance: 23.28958 - Total Weight: [19, 18, 14, 10, 7, 2, 0]\n",
      "Route 35: [0, 5, 2, 3, 1, 4, 0] - Total Distance: 23.47659 - Total Weight: [19, 18, 14, 11, 7, 5, 0]\n",
      "Route 36: [0, 4, 2, 1, 3, 5, 0] - Total Distance: 25.44884 - Total Weight: [19, 18, 13, 10, 8, 4, 0]\n",
      "Route 37: [0, 4, 1, 5, 3, 2, 0] - Total Distance: 24.62686 - Total Weight: [19, 18, 13, 11, 7, 3, 0]\n",
      "Route 38: [0, 1, 4, 3, 2, 5, 0] - Total Distance: 21.64463 - Total Weight: [19, 18, 16, 11, 7, 4, 0]\n",
      "Route 39: [0, 5, 2, 4, 3, 1, 0] - Total Distance: 24.53464 - Total Weight: [19, 18, 14, 11, 6, 2, 0]\n",
      "Route 40: [0, 3, 2, 1, 5, 4, 0] - Total Distance: 16.94579 - Total Weight: [19, 18, 14, 11, 9, 5, 0]\n",
      "Route 41: [0, 2, 5, 4, 1, 3, 0] - Total Distance: 20.67902 - Total Weight: [19, 18, 15, 11, 6, 4, 0]\n",
      "Route 42: [0, 3, 5, 4, 1, 2, 0] - Total Distance: 20.02855 - Total Weight: [19, 18, 14, 10, 5, 3, 0]\n",
      "Route 43: [0, 1, 3, 4, 2, 5, 0] - Total Distance: 23.23054 - Total Weight: [19, 18, 16, 12, 7, 4, 0]\n",
      "Route 44: [0, 3, 4, 2, 1, 5, 0] - Total Distance: 20.92432 - Total Weight: [19, 18, 14, 9, 6, 4, 0]\n",
      "Route 45: [0, 2, 4, 3, 5, 1, 0] - Total Distance: 20.07092 - Total Weight: [19, 18, 15, 10, 6, 2, 0]\n",
      "Route 46: [0, 5, 1, 3, 4, 2, 0] - Total Distance: 24.70621 - Total Weight: [19, 18, 14, 12, 8, 3, 0]\n",
      "Route 47: [0, 3, 4, 1, 2, 5, 0] - Total Distance: 21.00456 - Total Weight: [19, 18, 14, 9, 7, 4, 0]\n",
      "Route 48: [0, 1, 3, 4, 2, 5, 0] - Total Distance: 23.23054 - Total Weight: [19, 18, 16, 12, 7, 4, 0]\n",
      "Route 49: [0, 1, 5, 2, 4, 3, 0] - Total Distance: 21.23054 - Total Weight: [19, 18, 16, 12, 9, 4, 0]\n",
      "Route 50: [0, 2, 5, 1, 4, 3, 0] - Total Distance: 19.98888 - Total Weight: [19, 18, 15, 11, 9, 4, 0]\n"
     ]
    }
   ],
   "source": [
    "# Generate an initial population\n",
    "# It is generated randomly\n",
    "initial_population = generate_population()\n",
    "print(initial_population)\n",
    "# Create the distance matrix\n",
    "distance_matrix = create_distance_matrix()\n",
    "\n",
    "# Print the initial population with their total distances\n",
    "for i, route in enumerate(initial_population):\n",
    "    total_distance = calculate_total_distance(route, distance_matrix)\n",
    "    total_weight = calculate_total_weight(route)\n",
    "    print(f\"Route {i + 1}: {route} - Total Distance: {round(total_distance,5)} - Total Weight: {track_total_weight(route, total_weight)}\")"
   ]
  },
  {
   "cell_type": "code",
   "execution_count": 76,
   "metadata": {},
   "outputs": [],
   "source": [
    "# Function to evaluate the fitness of an individual (route)\n",
    "def evaluate_fitness(route, distance_matrix):\n",
    "    total_distance = calculate_total_distance(route, distance_matrix)\n",
    "    fitness = round((1 / total_distance) * 100, 5)  # Inverse of the total distance as the fitness measure\n",
    "    return fitness"
   ]
  },
  {
   "cell_type": "code",
   "execution_count": 77,
   "metadata": {},
   "outputs": [
    {
     "name": "stdout",
     "output_type": "stream",
     "text": [
      "Route 40: [0, 3, 2, 1, 5, 4, 0] - Fitness: 5.90117\n",
      "Route 2: [0, 1, 2, 5, 3, 4, 0] - Fitness: 5.61863\n",
      "Route 23: [0, 2, 1, 3, 4, 5, 0] - Fitness: 5.41242\n",
      "Route 4: [0, 1, 5, 2, 3, 4, 0] - Fitness: 5.38739\n",
      "Route 28: [0, 2, 3, 5, 1, 4, 0] - Fitness: 5.2596\n",
      "Route 33: [0, 2, 5, 4, 3, 1, 0] - Fitness: 5.24428\n",
      "Route 21: [0, 1, 3, 2, 5, 4, 0] - Fitness: 5.19426\n",
      "Route 1: [0, 1, 2, 4, 5, 3, 0] - Fitness: 5.13068\n",
      "Route 15: [0, 3, 5, 2, 1, 4, 0] - Fitness: 5.07751\n",
      "Route 50: [0, 2, 5, 1, 4, 3, 0] - Fitness: 5.00278\n",
      "Route 42: [0, 3, 5, 4, 1, 2, 0] - Fitness: 4.99287\n",
      "Route 45: [0, 2, 4, 3, 5, 1, 0] - Fitness: 4.98233\n",
      "Route 9: [0, 1, 5, 4, 2, 3, 0] - Fitness: 4.93717\n",
      "Route 25: [0, 1, 5, 3, 2, 4, 0] - Fitness: 4.93717\n",
      "Route 29: [0, 2, 3, 4, 1, 5, 0] - Fitness: 4.9206\n",
      "Route 17: [0, 3, 2, 5, 1, 4, 0] - Fitness: 4.88791\n",
      "Route 8: [0, 2, 5, 4, 1, 3, 0] - Fitness: 4.83582\n",
      "Route 10: [0, 2, 5, 4, 1, 3, 0] - Fitness: 4.83582\n",
      "Route 14: [0, 2, 5, 4, 1, 3, 0] - Fitness: 4.83582\n",
      "Route 19: [0, 2, 5, 3, 1, 4, 0] - Fitness: 4.83582\n",
      "Route 32: [0, 2, 5, 3, 1, 4, 0] - Fitness: 4.83582\n",
      "Route 41: [0, 2, 5, 4, 1, 3, 0] - Fitness: 4.83582\n",
      "Route 44: [0, 3, 4, 2, 1, 5, 0] - Fitness: 4.77913\n",
      "Route 12: [0, 3, 4, 1, 2, 5, 0] - Fitness: 4.76087\n",
      "Route 47: [0, 3, 4, 1, 2, 5, 0] - Fitness: 4.76087\n",
      "Route 20: [0, 1, 5, 2, 4, 3, 0] - Fitness: 4.7102\n",
      "Route 49: [0, 1, 5, 2, 4, 3, 0] - Fitness: 4.7102\n",
      "Route 11: [0, 5, 4, 3, 1, 2, 0] - Fitness: 4.70066\n",
      "Route 38: [0, 1, 4, 3, 2, 5, 0] - Fitness: 4.62008\n",
      "Route 13: [0, 1, 3, 5, 2, 4, 0] - Fitness: 4.5619\n",
      "Route 6: [0, 4, 3, 5, 1, 2, 0] - Fitness: 4.52693\n",
      "Route 16: [0, 5, 4, 2, 1, 3, 0] - Fitness: 4.41844\n",
      "Route 27: [0, 5, 4, 2, 1, 3, 0] - Fitness: 4.41844\n",
      "Route 30: [0, 5, 2, 3, 4, 1, 0] - Fitness: 4.35754\n",
      "Route 43: [0, 1, 3, 4, 2, 5, 0] - Fitness: 4.30468\n",
      "Route 48: [0, 1, 3, 4, 2, 5, 0] - Fitness: 4.30468\n",
      "Route 5: [0, 3, 5, 2, 4, 1, 0] - Fitness: 4.29377\n",
      "Route 34: [0, 3, 5, 2, 4, 1, 0] - Fitness: 4.29377\n",
      "Route 31: [0, 3, 5, 1, 4, 2, 0] - Fitness: 4.26237\n",
      "Route 3: [0, 5, 2, 3, 1, 4, 0] - Fitness: 4.25956\n",
      "Route 35: [0, 5, 2, 3, 1, 4, 0] - Fitness: 4.25956\n",
      "Route 7: [0, 4, 5, 1, 3, 2, 0] - Fitness: 4.24735\n",
      "Route 18: [0, 5, 4, 1, 3, 2, 0] - Fitness: 4.19984\n",
      "Route 26: [0, 5, 1, 4, 2, 3, 0] - Fitness: 4.08512\n",
      "Route 39: [0, 5, 2, 4, 3, 1, 0] - Fitness: 4.07587\n",
      "Route 37: [0, 4, 1, 5, 3, 2, 0] - Fitness: 4.06061\n",
      "Route 24: [0, 5, 1, 3, 4, 2, 0] - Fitness: 4.04757\n",
      "Route 46: [0, 5, 1, 3, 4, 2, 0] - Fitness: 4.04757\n",
      "Route 22: [0, 4, 2, 1, 3, 5, 0] - Fitness: 3.92945\n",
      "Route 36: [0, 4, 2, 1, 3, 5, 0] - Fitness: 3.92945\n"
     ]
    }
   ],
   "source": [
    "# Evaluate the fitness of each route in the initial population\n",
    "fitness_values = []\n",
    "for i, route in enumerate(initial_population):\n",
    "    fitness = evaluate_fitness(route, distance_matrix)\n",
    "    fitness_values.append((i, fitness))\n",
    "\n",
    "# Sort the routes based on fitness in descending order\n",
    "sorted_routes = sorted(fitness_values, key=lambda x: x[1], reverse=True)\n",
    "\n",
    "# Print the routes with their fitness values (best to worst)\n",
    "for idx, fitness in sorted_routes:\n",
    "    route = initial_population[idx]\n",
    "    print(f\"Route {idx + 1}: {route} - Fitness: {fitness}\")"
   ]
  },
  {
   "cell_type": "code",
   "execution_count": 78,
   "metadata": {},
   "outputs": [],
   "source": [
    "def tournament_selection(population, fitness_values, tournament_size):\n",
    "    selected_candidates = []\n",
    "    for _ in range(5):  # Select 5 candidates\n",
    "        tournament_candidates = random.sample(population, tournament_size)  # Randomly select candidates for the tournament\n",
    "        tournament_fitness = [fitness_values[candidate] for candidate in tournament_candidates]\n",
    "        best_candidate = max(tournament_fitness)  # Select the candidate with the highest fitness\n",
    "        selected_candidates.append(best_candidate)\n",
    "    return selected_candidates"
   ]
  },
  {
   "cell_type": "code",
   "execution_count": 79,
   "metadata": {},
   "outputs": [],
   "source": [
    "#parent1 = [0, 1, 2, 3, 4, 5, 0]\n",
    "#parent2 = [0, 6, 7, 8, 9, 10, 0]\n",
    "#crossover_point = 3\n",
    "\n",
    "#child1 = parent1[:crossover_point] + parent2[crossover_point:]\n",
    "#       = [0, 1, 2] + [8, 9, 10, 0]\n",
    "#       = [0, 1, 2, 8, 9, 10, 0]\n",
    "\n",
    "def single_point_crossover(parent1, parent2):\n"
   ]
  },
  {
   "cell_type": "code",
   "execution_count": 80,
   "metadata": {},
   "outputs": [],
   "source": [
    "def mutate(individual, mutation_rate):\n",
    "    mutated_individual = individual.copy()  # Create a copy of the individual to avoid modifying the original\n",
    "    for i in range(1, len(mutated_individual) - 1):  # Exclude the depot\n",
    "        if random.random() < mutation_rate:\n",
    "            # Swap two randomly selected cities\n",
    "            j = random.randint(1, len(mutated_individual) - 2)  # Exclude the depot\n",
    "            mutated_individual[i], mutated_individual[j] = mutated_individual[j], mutated_individual[i]\n",
    "    return mutated_individual"
   ]
  },
  {
   "cell_type": "code",
   "execution_count": 81,
   "metadata": {},
   "outputs": [],
   "source": [
    "def create_new_population(selected_individuals, population_size, crossover_rate, mutation_rate):\n",
    "    new_population = []\n",
    "    while len(new_population) < population_size:\n",
    "        parent1 = random.choice(selected_individuals)\n",
    "        if random.random() < crossover_rate:\n",
    "            parent2 = random.choice(selected_individuals)\n",
    "            child1, child2 = single_point_crossover(parent1, parent2)  # Use your chosen crossover method\n",
    "            child1 = mutate(child1, mutation_rate)  # Apply mutation to child1\n",
    "            child2 = mutate(child2, mutation_rate)  # Apply mutation to child2\n",
    "            new_population.append(child1)\n",
    "            new_population.append(child2)\n",
    "        else:\n",
    "            child = parent1.copy()\n",
    "            child = mutate(child, mutation_rate)  # Apply mutation to child\n",
    "            new_population.append(child)\n",
    "    return new_population"
   ]
  },
  {
   "cell_type": "code",
   "execution_count": 82,
   "metadata": {},
   "outputs": [],
   "source": [
    "def replace_population(old_population, new_population):\n",
    "    population_size = len(old_population)\n",
    "    elite_size = int(0.1 * population_size)  # Select top 10% as elite individuals\n",
    "    sorted_population = sorted(old_population, key=lambda ind: evaluate_fitness(ind))  # Sort old population by fitness\n",
    "\n",
    "    new_generation = sorted_population[:elite_size] + new_population[:population_size - elite_size]\n",
    "    return new_generation"
   ]
  },
  {
   "cell_type": "code",
   "execution_count": 83,
   "metadata": {},
   "outputs": [],
   "source": [
    "def get_best_individual(population, fitness_values):\n",
    "    best_index = fitness_values.index(max(fitness_values))\n",
    "    best_individual = population[best_index]\n",
    "    return best_individual"
   ]
  },
  {
   "cell_type": "code",
   "execution_count": null,
   "metadata": {},
   "outputs": [],
   "source": [
    "def create_new_generation(previous_generation, mutation_rate):\n",
    "    new_generation = [find_best(previous_generation)]  # This is for elitism. Keep the best of the previous generation.\n",
    "\n",
    "    # Use two chromosomes and create two chromosomes. So, iteration size will be half of the population size!\n",
    "    for a in range(0, int(len(previous_generation)/2)):\n",
    "        parent_1 = tournament_selection(previous_generation)\n",
    "        parent_2 = tournament_selection(previous_generation)\n",
    "\n",
    "        child_1, child_2 = single_point_crossover(parent_1, parent_2)  # This will create node lists, we need Chromosome objects\n",
    "\n",
    "\n",
    "        if random.random() < mutation_rate:\n",
    "            child_1 = mutate()\n",
    "\n",
    "        new_generation.append(child_1)\n",
    "        new_generation.append(child_2)\n",
    "\n",
    "    return new_generation\n"
   ]
  },
  {
   "cell_type": "code",
   "execution_count": 84,
   "metadata": {},
   "outputs": [],
   "source": [
    "# main function for genetic algorithm\n",
    "def genetic_algorithm(num_of_generations, population_size, mutation_rate, data_list):\n",
    "    new_gen = generate_population()  # first generation is created with initialization function\n",
    "\n",
    "    costs_for_plot = []  # this list is only for Cost-Generations graph. it will constitute y-axis of the graph\n",
    "\n",
    "    for iteration in range(0, num_of_generations):\n",
    "        new_gen = create_new_generation(new_gen, mutation_rate)  # create a new generation in each iteration\n",
    "        # print the cost of first chromosome of each new generation to observe the change over generations\n",
    "        print(str(iteration) + \". generation --> \" + \"cost --> \" + str(new_gen[0].cost))\n",
    "        costs_for_plot.append(get_best_individual(new_gen).cost)  # append the best chromosome's cost of each new generation\n",
    "        # to the list to plot in the graph\n",
    "\n",
    "    return new_gen, costs_for_plot\n"
   ]
  }
 ],
 "metadata": {
  "kernelspec": {
   "display_name": "Python 3",
   "language": "python",
   "name": "python3"
  },
  "language_info": {
   "codemirror_mode": {
    "name": "ipython",
    "version": 3
   },
   "file_extension": ".py",
   "mimetype": "text/x-python",
   "name": "python",
   "nbconvert_exporter": "python",
   "pygments_lexer": "ipython3",
   "version": "3.11.3"
  },
  "orig_nbformat": 4
 },
 "nbformat": 4,
 "nbformat_minor": 2
}
